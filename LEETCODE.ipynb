{
 "cells": [
  {
   "cell_type": "code",
   "execution_count": 13,
   "id": "279dcd70",
   "metadata": {},
   "outputs": [
    {
     "name": "stdout",
     "output_type": "stream",
     "text": [
      "5\n"
     ]
    }
   ],
   "source": [
    "class Solution:\n",
    "    def maxProfit(self, prices: list[int]) -> int:\n",
    "        return 5\n",
    "\n",
    "prices = [7,1,5,3,6,4]\n",
    "result = Solution()\n",
    "result2 = result.maxProfit(prices)\n",
    "print(result2)\n"
   ]
  },
  {
   "cell_type": "code",
   "execution_count": 36,
   "id": "15bdb07b",
   "metadata": {},
   "outputs": [
    {
     "data": {
      "text/plain": [
       "[[7, 1],\n",
       " [7, 5],\n",
       " [7, 3],\n",
       " [7, 6],\n",
       " [7, 4],\n",
       " [1, 1],\n",
       " [1, 5],\n",
       " [1, 3],\n",
       " [1, 6],\n",
       " [1, 4],\n",
       " [5, 1],\n",
       " [5, 5],\n",
       " [5, 3],\n",
       " [5, 6],\n",
       " [5, 4],\n",
       " [3, 1],\n",
       " [3, 5],\n",
       " [3, 3],\n",
       " [3, 6],\n",
       " [3, 4],\n",
       " [6, 1],\n",
       " [6, 5],\n",
       " [6, 3],\n",
       " [6, 6],\n",
       " [6, 4],\n",
       " [4, 1],\n",
       " [4, 5],\n",
       " [4, 3],\n",
       " [4, 6],\n",
       " [4, 4]]"
      ]
     },
     "execution_count": 36,
     "metadata": {},
     "output_type": "execute_result"
    }
   ],
   "source": [
    "prices = [7,1,5,3,6,4]\n",
    "profit = []\n",
    "\n",
    "for x in prices:\n",
    "    for y in prices[1:]:\n",
    "        profit.append([x, y, ])\n",
    "\n",
    "\n",
    "# print(max(profit))\n",
    "profit"
   ]
  },
  {
   "cell_type": "code",
   "execution_count": null,
   "id": "85fa229e",
   "metadata": {},
   "outputs": [],
   "source": []
  }
 ],
 "metadata": {
  "kernelspec": {
   "display_name": "venv_tg",
   "language": "python",
   "name": "python3"
  },
  "language_info": {
   "codemirror_mode": {
    "name": "ipython",
    "version": 3
   },
   "file_extension": ".py",
   "mimetype": "text/x-python",
   "name": "python",
   "nbconvert_exporter": "python",
   "pygments_lexer": "ipython3",
   "version": "3.11.11"
  }
 },
 "nbformat": 4,
 "nbformat_minor": 5
}
